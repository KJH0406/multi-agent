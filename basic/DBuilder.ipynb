{
 "cells": [
  {
   "cell_type": "code",
   "execution_count": 1,
   "metadata": {},
   "outputs": [
    {
     "data": {
      "text/plain": [
       "15"
      ]
     },
     "execution_count": 1,
     "metadata": {},
     "output_type": "execute_result"
    }
   ],
   "source": [
    "# CSV 파일을 SQLite 데이터베이스로 변환\n",
    "import pandas as pd\n",
    "from sqlalchemy import create_engine\n",
    "\n",
    "# CSV 파일 경로\n",
    "csv_file = \"mixpanel_events.csv\"\n",
    "\n",
    "# 생성할 DB 이름 지정\n",
    "db_name = \"new\"\n",
    "\n",
    "# CSV 파일을 읽어서 데이터프레임 형태로 변환\n",
    "df= pd.read_csv(csv_file, encoding='utf-8')\n",
    "\n",
    "# SQLite 데이터베이스 연결\n",
    "engine = create_engine(f'sqlite:///{db_name}.db') \n",
    "\n",
    "# 위에서 생성한 데이터프레임을 SQLite 데이터베이스로 저장\n",
    "df.to_sql(db_name, engine, index=False) "
   ]
  },
  {
   "cell_type": "code",
   "execution_count": null,
   "metadata": {},
   "outputs": [],
   "source": []
  }
 ],
 "metadata": {
  "kernelspec": {
   "display_name": "Python 3.11.1 ('.venv': venv)",
   "language": "python",
   "name": "python3"
  },
  "language_info": {
   "codemirror_mode": {
    "name": "ipython",
    "version": 3
   },
   "file_extension": ".py",
   "mimetype": "text/x-python",
   "name": "python",
   "nbconvert_exporter": "python",
   "pygments_lexer": "ipython3",
   "version": "3.11.1"
  },
  "orig_nbformat": 4,
  "vscode": {
   "interpreter": {
    "hash": "e1ddf0b3a4a70dafcd1bf1cf952278fd0740112afa4a17d46e0eef5cbf1d76c6"
   }
  }
 },
 "nbformat": 4,
 "nbformat_minor": 2
}
