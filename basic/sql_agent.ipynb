{
 "cells": [
  {
   "cell_type": "code",
   "execution_count": 2,
   "metadata": {},
   "outputs": [
    {
     "data": {
      "text/plain": [
       "True"
      ]
     },
     "execution_count": 2,
     "metadata": {},
     "output_type": "execute_result"
    }
   ],
   "source": [
    "from dotenv import load_dotenv\n",
    "\n",
    "# 토큰 정보 로드\n",
    "load_dotenv()"
   ]
  },
  {
   "cell_type": "code",
   "execution_count": 4,
   "metadata": {},
   "outputs": [
    {
     "data": {
      "text/plain": [
       "5000"
      ]
     },
     "execution_count": 4,
     "metadata": {},
     "output_type": "execute_result"
    }
   ],
   "source": [
    "import pandas as pd\n",
    "from sqlalchemy import create_engine\n",
    "\n",
    "df= pd.read_csv(\"dumy.csv\", encoding='utf-8')\n",
    "engine = create_engine(\"sqlite:///employee.db\")\n",
    "df.to_sql(\"employee\", engine, index=False)\n"
   ]
  },
  {
   "cell_type": "code",
   "execution_count": 5,
   "metadata": {},
   "outputs": [
    {
     "name": "stdout",
     "output_type": "stream",
     "text": [
      "['employee']\n"
     ]
    }
   ],
   "source": [
    "from langchain_community.utilities import SQLDatabase\n",
    "from langchain.chains import create_sql_query_chain\n",
    "from langchain_openai import ChatOpenAI\n",
    "from sqlalchemy import text\n",
    "from langchain_community.tools.sql_database.tool import QuerySQLDataBaseTool\n",
    "from langchain_core.prompts import PromptTemplate\n",
    "\n",
    "\n",
    "db = SQLDatabase.from_uri(\"sqlite:///employee.db\")\n",
    "print(db.get_usable_table_names())"
   ]
  },
  {
   "cell_type": "code",
   "execution_count": 30,
   "metadata": {},
   "outputs": [
    {
     "data": {
      "text/plain": [
       "'SELECT COUNT(\"Name\") \\nFROM employee \\nWHERE \"Department\" = \\'Sales\\''"
      ]
     },
     "execution_count": 30,
     "metadata": {},
     "output_type": "execute_result"
    }
   ],
   "source": [
    "llm = ChatOpenAI(model=\"gpt-3.5-turbo\", temperature=0)\n",
    "chain = create_sql_query_chain(llm, db)\n",
    "sql = chain.invoke({\"question\": \"회사에서 영업 부서에 속한 직원들은 몇명이야?\"})\n",
    "sql"
   ]
  },
  {
   "cell_type": "code",
   "execution_count": 31,
   "metadata": {},
   "outputs": [
    {
     "name": "stdout",
     "output_type": "stream",
     "text": [
      "[(1004,)]\n"
     ]
    }
   ],
   "source": [
    "response = db.run(sql)\n",
    "print(response)"
   ]
  },
  {
   "cell_type": "code",
   "execution_count": 32,
   "metadata": {},
   "outputs": [],
   "source": [
    "execute_query = QuerySQLDataBaseTool(db=db)\n",
    "write_query = create_sql_query_chain(llm, db)\n",
    "chain = write_query | execute_query"
   ]
  },
  {
   "cell_type": "code",
   "execution_count": 33,
   "metadata": {},
   "outputs": [
    {
     "name": "stdout",
     "output_type": "stream",
     "text": [
      "회사에서 영업 부서에 속한 직원은 1004명입니다.\n"
     ]
    }
   ],
   "source": [
    "answer_prompt = PromptTemplate.from_template(\n",
    "    \"\"\"Given the following user question, corresponding SQL query, and SQL result, answer the user question.\n",
    "\n",
    "    Question: {question}\n",
    "    SQL Query: {query}\n",
    "    SQL Result: {result}\n",
    "    Answer: \"\"\"\n",
    ")\n",
    "\n",
    "answer_chain=answer_prompt|llm\n",
    "question=\"회사에서 영업 부서에 속한 직원들은 몇명이야?\"\n",
    "answer=answer_chain.invoke({\"question\": question, \"query\": sql, \"result\": response})\n",
    "print(answer.content)"
   ]
  },
  {
   "cell_type": "code",
   "execution_count": 34,
   "metadata": {},
   "outputs": [
    {
     "name": "stdout",
     "output_type": "stream",
     "text": [
      "\n",
      "\n",
      "\u001b[1m> Entering new SQL Agent Executor chain...\u001b[0m\n",
      "\u001b[32;1m\u001b[1;3m\n",
      "Invoking: `sql_db_list_tables` with `{}`\n",
      "\n",
      "\n",
      "\u001b[0m\u001b[38;5;200m\u001b[1;3memployee\u001b[0m\u001b[32;1m\u001b[1;3m\n",
      "Invoking: `sql_db_schema` with `{'table_names': 'employee'}`\n",
      "\n",
      "\n",
      "\u001b[0m\u001b[33;1m\u001b[1;3m\n",
      "CREATE TABLE employee (\n",
      "\t\"Unnamed: 0\" BIGINT, \n",
      "\t\"Name\" TEXT, \n",
      "\t\"Address\" TEXT, \n",
      "\t\"Salary\" FLOAT, \n",
      "\t\"DOJ\" TEXT, \n",
      "\t\"DOB\" TEXT, \n",
      "\t\"Age\" BIGINT, \n",
      "\t\"Sex\" TEXT, \n",
      "\t\"Dependents\" FLOAT, \n",
      "\t\"HRA\" FLOAT, \n",
      "\t\"DA\" FLOAT, \n",
      "\t\"PF\" FLOAT, \n",
      "\t\"Gross Salary\" FLOAT, \n",
      "\t\"Insurance\" TEXT, \n",
      "\t\"Marital Status\" TEXT, \n",
      "\t\"In Company Years\" BIGINT, \n",
      "\t\"Year of Experience\" BIGINT, \n",
      "\t\"Department\" TEXT, \n",
      "\t\"Position\" TEXT\n",
      ")\n",
      "\n",
      "/*\n",
      "3 rows from employee table:\n",
      "Unnamed: 0\tName\tAddress\tSalary\tDOJ\tDOB\tAge\tSex\tDependents\tHRA\tDA\tPF\tGross Salary\tInsurance\tMarital Status\tIn Company Years\tYear of Experience\tDepartment\tPosition\n",
      "0\tVgwbPyBn\tjyNxKZtk St, piZQhYcARo, PUN 172813\t149289.04\t1998-04-27\t1971-03-27\t53\tOther\t2.0\t8776.095999999998\t35233.66637469586\t22142.724764963503\t171156.07760973237\tNone\tWidowed\t26\t32\tSales\tSales Director\n",
      "1\tpgdYaIWk\tPypVsqug St, iHyelKZbFc, BLR 580530\t69761.64\t2020-10-24\t1997-12-12\t26\tMale\t0.0\t9302.836\t16464.425985401456\t10347.127918248174\t85181.77406715328\tBoth\tSingle\t3\t5\tHuman Resources\tHR Executive\n",
      "2\teWgVBGVv\tpfQezTVa St, YfIaELfpUw, BLR 155186\t107633.14\t2020-07-22\t1979-08-20\t44\tFemale\t2.0\t13357.686\t25402.46856447688\t15964.273027737228\t130429.02153673964\tNone\tDivorced\t3\t23\tMarketing\tSenior Marketing Executive\n",
      "*/\u001b[0m\u001b[32;1m\u001b[1;3m\n",
      "Invoking: `sql_db_query` with `{'query': \"SELECT COUNT(*) AS TotalEmployees FROM employee WHERE Department = 'Sales'\"}`\n",
      "\n",
      "\n",
      "\u001b[0m\u001b[36;1m\u001b[1;3m[(1004,)]\u001b[0m\u001b[32;1m\u001b[1;3m영업 부서에 속한 직원은 1004명입니다.\u001b[0m\n",
      "\n",
      "\u001b[1m> Finished chain.\u001b[0m\n"
     ]
    },
    {
     "data": {
      "text/plain": [
       "{'input': '회사에서 영업 부서에 속한 직원들은 몇명이야?', 'output': '영업 부서에 속한 직원은 1004명입니다.'}"
      ]
     },
     "execution_count": 34,
     "metadata": {},
     "output_type": "execute_result"
    }
   ],
   "source": [
    "from langchain_community.agent_toolkits import create_sql_agent\n",
    "agent_executor = create_sql_agent(llm, db=db, agent_type=\"openai-tools\", verbose=True)\n",
    "agent_executor.invoke({\"input\": \"회사에서 영업 부서에 속한 직원들은 몇명이야?\"})"
   ]
  },
  {
   "cell_type": "code",
   "execution_count": null,
   "metadata": {},
   "outputs": [],
   "source": []
  }
 ],
 "metadata": {
  "kernelspec": {
   "display_name": "Python 3.11.1 ('.venv': venv)",
   "language": "python",
   "name": "python3"
  },
  "language_info": {
   "codemirror_mode": {
    "name": "ipython",
    "version": 3
   },
   "file_extension": ".py",
   "mimetype": "text/x-python",
   "name": "python",
   "nbconvert_exporter": "python",
   "pygments_lexer": "ipython3",
   "version": "3.11.1"
  },
  "orig_nbformat": 4,
  "vscode": {
   "interpreter": {
    "hash": "e1ddf0b3a4a70dafcd1bf1cf952278fd0740112afa4a17d46e0eef5cbf1d76c6"
   }
  }
 },
 "nbformat": 4,
 "nbformat_minor": 2
}
