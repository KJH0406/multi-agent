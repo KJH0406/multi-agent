{
 "cells": [
  {
   "cell_type": "code",
   "execution_count": 6,
   "metadata": {},
   "outputs": [
    {
     "name": "stdout",
     "output_type": "stream",
     "text": [
      "\n",
      "\n",
      "\u001b[1m> Entering new SQL Agent Executor chain...\u001b[0m\n",
      "\u001b[32;1m\u001b[1;3m\n",
      "Invoking: `sql_db_list_tables` with `{}`\n",
      "\n",
      "\n",
      "\u001b[0m\u001b[38;5;200m\u001b[1;3mComments, Organizations, Projects, Tags, TaskTags, Tasks, UserOrganization, Users\u001b[0m\u001b[32;1m\u001b[1;3m\n",
      "Invoking: `sql_db_schema` with `{'table_names': 'Projects'}`\n",
      "\n",
      "\n",
      "\u001b[0m\u001b[33;1m\u001b[1;3m\n",
      "CREATE TABLE \"Projects\" (\n",
      "\t\"ProjectID\" INTEGER, \n",
      "\t\"OrgID\" INTEGER, \n",
      "\t\"ProjectName\" TEXT NOT NULL, \n",
      "\t\"Description\" TEXT, \n",
      "\t\"StartDate\" DATE, \n",
      "\t\"EndDate\" DATE, \n",
      "\t\"Status\" TEXT, \n",
      "\t\"CreatedAt\" TIMESTAMP DEFAULT CURRENT_TIMESTAMP, \n",
      "\tPRIMARY KEY (\"ProjectID\"), \n",
      "\tFOREIGN KEY(\"OrgID\") REFERENCES \"Organizations\" (\"OrgID\")\n",
      ")\n",
      "\n",
      "/*\n",
      "3 rows from Projects table:\n",
      "ProjectID\tOrgID\tProjectName\tDescription\tStartDate\tEndDate\tStatus\tCreatedAt\n",
      "1\t1\t판타지 RPG 대모험\t오픈 월드 판타지 롤플레잉 게임\t2024-08-11\t2025-07-25\t진행 중\t2024-09-17 05:36:11\n",
      "2\t4\t우주 전쟁: 은하계 수호자\t멀티플레이어 우주 전투 게임\t2024-06-04\t2026-04-08\t기획 중\t2024-09-17 05:36:11\n",
      "3\t5\t퍼즐 마스터: 시간의 미로\t시간 여행 테마의 2D 퍼즐 어드벤처\t2024-05-27\t2026-01-10\t진행 중\t2024-09-17 05:36:11\n",
      "*/\u001b[0m\u001b[32;1m\u001b[1;3m\n",
      "Invoking: `sql_db_query` with `{'query': 'SELECT COUNT(ProjectID) AS NumProjects, ProjectName FROM Projects GROUP BY ProjectName'}`\n",
      "\n",
      "\n",
      "\u001b[0m\u001b[36;1m\u001b[1;3m[(1, 'AI 배틀: 전략의 시대'), (1, 'VR 공포 체험: 유령의 집'), (1, '레트로 아케이드 컬렉션'), (1, '메카 워리어: 로봇 전쟁'), (1, '모바일 농장 타이쿤'), (1, '미스터리 탐정: 그림자의 비밀'), (1, '우주 전쟁: 은하계 수호자'), (1, '음악의 리듬: 비트 챌린지'), (1, '판타지 RPG 대모험'), (1, '퍼즐 마스터: 시간의 미로')]\u001b[0m\u001b[32;1m\u001b[1;3m현재 진행 중인 프로젝트는 총 10개이며, 각 프로젝트 이름은 다음과 같습니다:\n",
      "1. AI 배틀: 전략의 시대\n",
      "2. VR 공포 체험: 유령의 집\n",
      "3. 레트로 아케이드 컬렉션\n",
      "4. 메카 워리어: 로봇 전쟁\n",
      "5. 모바일 농장 타이쿤\n",
      "6. 미스터리 탐정: 그림자의 비밀\n",
      "7. 우주 전쟁: 은하계 수호자\n",
      "8. 음악의 리듬: 비트 챌린지\n",
      "9. 판타지 RPG 대모험\n",
      "10. 퍼즐 마스터: 시간의 미로\u001b[0m\n",
      "\n",
      "\u001b[1m> Finished chain.\u001b[0m\n"
     ]
    },
    {
     "data": {
      "text/plain": [
       "{'input': '현재 진행 중인 프로젝트는 몇개이며, 각 프로젝트 이름을 함께 알려주세요',\n",
       " 'output': '현재 진행 중인 프로젝트는 총 10개이며, 각 프로젝트 이름은 다음과 같습니다:\\n1. AI 배틀: 전략의 시대\\n2. VR 공포 체험: 유령의 집\\n3. 레트로 아케이드 컬렉션\\n4. 메카 워리어: 로봇 전쟁\\n5. 모바일 농장 타이쿤\\n6. 미스터리 탐정: 그림자의 비밀\\n7. 우주 전쟁: 은하계 수호자\\n8. 음악의 리듬: 비트 챌린지\\n9. 판타지 RPG 대모험\\n10. 퍼즐 마스터: 시간의 미로'}"
      ]
     },
     "execution_count": 6,
     "metadata": {},
     "output_type": "execute_result"
    }
   ],
   "source": [
    "from dotenv import load_dotenv\n",
    "from langchain_community.utilities import SQLDatabase\n",
    "from langchain_openai import ChatOpenAI\n",
    "from langchain_community.agent_toolkits import create_sql_agent\n",
    "\n",
    "load_dotenv()\n",
    "db_name = \"korean_game_dev_project\"\n",
    "db = SQLDatabase.from_uri(f\"sqlite:///{db_name}.db\")\n",
    "llm = ChatOpenAI(model=\"gpt-3.5-turbo\", temperature=0)\n",
    "# llm = ChatOpenAI(model=\"gpt-4o\", temperature=0)\n",
    "\n",
    "agent_executor = create_sql_agent(llm, db=db, agent_type=\"openai-tools\", verbose=True)\n",
    "agent_executor.invoke({\"input\": \"현재 진행 중인 프로젝트는 몇개이며, 각 프로젝트 이름을 함께 알려주세요\"})\n"
   ]
  },
  {
   "cell_type": "code",
   "execution_count": null,
   "metadata": {},
   "outputs": [],
   "source": []
  }
 ],
 "metadata": {
  "kernelspec": {
   "display_name": "Python 3.11.1 ('.venv': venv)",
   "language": "python",
   "name": "python3"
  },
  "language_info": {
   "codemirror_mode": {
    "name": "ipython",
    "version": 3
   },
   "file_extension": ".py",
   "mimetype": "text/x-python",
   "name": "python",
   "nbconvert_exporter": "python",
   "pygments_lexer": "ipython3",
   "version": "3.11.1"
  },
  "orig_nbformat": 4,
  "vscode": {
   "interpreter": {
    "hash": "e1ddf0b3a4a70dafcd1bf1cf952278fd0740112afa4a17d46e0eef5cbf1d76c6"
   }
  }
 },
 "nbformat": 4,
 "nbformat_minor": 2
}
